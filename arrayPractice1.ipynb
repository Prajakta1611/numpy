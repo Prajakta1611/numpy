{
 "cells": [
  {
   "cell_type": "code",
   "execution_count": 1,
   "id": "b580e2a6",
   "metadata": {},
   "outputs": [],
   "source": [
    "# Q1 Write a NumPy program to convert a list of numeric values into a one-dimensional NumPy array"
   ]
  },
  {
   "cell_type": "code",
   "execution_count": 2,
   "id": "aa3916f5",
   "metadata": {},
   "outputs": [],
   "source": [
    "List = [1,2,3,4,5,6]"
   ]
  },
  {
   "cell_type": "code",
   "execution_count": 3,
   "id": "efb0e969",
   "metadata": {},
   "outputs": [],
   "source": [
    "import numpy as np"
   ]
  },
  {
   "cell_type": "code",
   "execution_count": 4,
   "id": "dac7190d",
   "metadata": {},
   "outputs": [],
   "source": [
    "array = np.array(List)"
   ]
  },
  {
   "cell_type": "code",
   "execution_count": 5,
   "id": "aa9d63aa",
   "metadata": {},
   "outputs": [
    {
     "data": {
      "text/plain": [
       "array([1, 2, 3, 4, 5, 6])"
      ]
     },
     "execution_count": 5,
     "metadata": {},
     "output_type": "execute_result"
    }
   ],
   "source": [
    "array"
   ]
  },
  {
   "cell_type": "code",
   "execution_count": 6,
   "id": "f5c205b8",
   "metadata": {},
   "outputs": [],
   "source": [
    "# Q2 Write a NumPy program to create a 3x3 matrix with values ranging from 2 to 10."
   ]
  },
  {
   "cell_type": "code",
   "execution_count": 11,
   "id": "109b1182",
   "metadata": {},
   "outputs": [
    {
     "data": {
      "text/plain": [
       "array([[ 2,  3,  4],\n",
       "       [ 5,  6,  7],\n",
       "       [ 8,  9, 10]])"
      ]
     },
     "execution_count": 11,
     "metadata": {},
     "output_type": "execute_result"
    }
   ],
   "source": [
    "ar = np.arange(2,11).reshape(3,3)\n",
    "ar"
   ]
  },
  {
   "cell_type": "code",
   "execution_count": 12,
   "id": "b7db96c0",
   "metadata": {},
   "outputs": [],
   "source": [
    "# Q3 Write a NumPy program to create a null vector of size 10 and update the sixth value to 11."
   ]
  },
  {
   "cell_type": "code",
   "execution_count": 34,
   "id": "48a31ad4",
   "metadata": {},
   "outputs": [],
   "source": [
    "n = np.zeros((10))"
   ]
  },
  {
   "cell_type": "code",
   "execution_count": 35,
   "id": "1ac9ce6f",
   "metadata": {},
   "outputs": [],
   "source": [
    "n[6] = 11"
   ]
  },
  {
   "cell_type": "code",
   "execution_count": 36,
   "id": "0f23d743",
   "metadata": {},
   "outputs": [
    {
     "data": {
      "text/plain": [
       "array([ 0.,  0.,  0.,  0.,  0.,  0., 11.,  0.,  0.,  0.])"
      ]
     },
     "execution_count": 36,
     "metadata": {},
     "output_type": "execute_result"
    }
   ],
   "source": [
    "n"
   ]
  },
  {
   "cell_type": "code",
   "execution_count": 37,
   "id": "5d4bccc2",
   "metadata": {},
   "outputs": [],
   "source": [
    "# Q4 Write a NumPy program to create an array with values ranging from 12 to 38."
   ]
  },
  {
   "cell_type": "code",
   "execution_count": 38,
   "id": "4b9f3ff8",
   "metadata": {},
   "outputs": [],
   "source": [
    "r = np.arange(12,38)"
   ]
  },
  {
   "cell_type": "code",
   "execution_count": 39,
   "id": "6234742d",
   "metadata": {},
   "outputs": [
    {
     "data": {
      "text/plain": [
       "array([12, 13, 14, 15, 16, 17, 18, 19, 20, 21, 22, 23, 24, 25, 26, 27, 28,\n",
       "       29, 30, 31, 32, 33, 34, 35, 36, 37])"
      ]
     },
     "execution_count": 39,
     "metadata": {},
     "output_type": "execute_result"
    }
   ],
   "source": [
    "r"
   ]
  },
  {
   "cell_type": "code",
   "execution_count": 40,
   "id": "a5f1442e",
   "metadata": {},
   "outputs": [],
   "source": [
    "# Q5 Write a NumPy program to reverse an array (the first element becomes the last)."
   ]
  },
  {
   "cell_type": "code",
   "execution_count": 62,
   "id": "3b7d89b4",
   "metadata": {},
   "outputs": [],
   "source": [
    "fl = np.arange(12,38)"
   ]
  },
  {
   "cell_type": "code",
   "execution_count": 64,
   "id": "be53d912",
   "metadata": {},
   "outputs": [
    {
     "data": {
      "text/plain": [
       "array([12, 13, 14, 15, 16, 17, 18, 19, 20, 21, 22, 23, 24, 25, 26, 27, 28,\n",
       "       29, 30, 31, 32, 33, 34, 35, 36, 37])"
      ]
     },
     "execution_count": 64,
     "metadata": {},
     "output_type": "execute_result"
    }
   ],
   "source": [
    "fl"
   ]
  },
  {
   "cell_type": "code",
   "execution_count": 60,
   "id": "ab9fef70",
   "metadata": {},
   "outputs": [],
   "source": [
    "fl=fl[::-1]"
   ]
  },
  {
   "cell_type": "code",
   "execution_count": 61,
   "id": "d72b3f78",
   "metadata": {},
   "outputs": [
    {
     "data": {
      "text/plain": [
       "array([37, 36, 35, 34, 33, 32, 31, 30, 29, 28, 27, 26, 25, 24, 23, 22, 21,\n",
       "       20, 19, 18, 17, 16, 15, 14, 13, 12])"
      ]
     },
     "execution_count": 61,
     "metadata": {},
     "output_type": "execute_result"
    }
   ],
   "source": [
    "fl"
   ]
  },
  {
   "cell_type": "code",
   "execution_count": 65,
   "id": "f5bec00a",
   "metadata": {},
   "outputs": [],
   "source": [
    "# Q6 Write a NumPy program to convert an array to a floating type."
   ]
  },
  {
   "cell_type": "code",
   "execution_count": 75,
   "id": "4f9d9358",
   "metadata": {},
   "outputs": [
    {
     "ename": "NameError",
     "evalue": "name 'arange' is not defined",
     "output_type": "error",
     "traceback": [
      "\u001b[1;31m---------------------------------------------------------------------------\u001b[0m",
      "\u001b[1;31mNameError\u001b[0m                                 Traceback (most recent call last)",
      "Cell \u001b[1;32mIn[75], line 1\u001b[0m\n\u001b[1;32m----> 1\u001b[0m a \u001b[38;5;241m=\u001b[39m \u001b[43marange\u001b[49m(\u001b[38;5;241m1\u001b[39m,\u001b[38;5;241m10\u001b[39m)\n",
      "\u001b[1;31mNameError\u001b[0m: name 'arange' is not defined"
     ]
    }
   ],
   "source": [
    "a = arange(1,10)"
   ]
  },
  {
   "cell_type": "code",
   "execution_count": 70,
   "id": "1c52f79e",
   "metadata": {},
   "outputs": [
    {
     "data": {
      "text/plain": [
       "range(1, 10)"
      ]
     },
     "execution_count": 70,
     "metadata": {},
     "output_type": "execute_result"
    }
   ],
   "source": []
  },
  {
   "cell_type": "code",
   "execution_count": 71,
   "id": "73e6df05",
   "metadata": {},
   "outputs": [],
   "source": [
    "f = np.asfarray(a)"
   ]
  },
  {
   "cell_type": "code",
   "execution_count": 72,
   "id": "b3a1655b",
   "metadata": {},
   "outputs": [
    {
     "data": {
      "text/plain": [
       "array([1., 2., 3., 4., 5., 6., 7., 8., 9.])"
      ]
     },
     "execution_count": 72,
     "metadata": {},
     "output_type": "execute_result"
    }
   ],
   "source": [
    "f"
   ]
  }
 ],
 "metadata": {
  "kernelspec": {
   "display_name": "Python 3 (ipykernel)",
   "language": "python",
   "name": "python3"
  },
  "language_info": {
   "codemirror_mode": {
    "name": "ipython",
    "version": 3
   },
   "file_extension": ".py",
   "mimetype": "text/x-python",
   "name": "python",
   "nbconvert_exporter": "python",
   "pygments_lexer": "ipython3",
   "version": "3.8.2"
  }
 },
 "nbformat": 4,
 "nbformat_minor": 5
}
