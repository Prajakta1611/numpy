{
 "cells": [
  {
   "cell_type": "code",
   "execution_count": 2,
   "id": "3784cb46",
   "metadata": {},
   "outputs": [],
   "source": [
    "#  to get the value of Pi."
   ]
  },
  {
   "cell_type": "code",
   "execution_count": 3,
   "id": "47a76f0f",
   "metadata": {},
   "outputs": [],
   "source": [
    "import numpy as np"
   ]
  },
  {
   "cell_type": "code",
   "execution_count": 4,
   "id": "82329433",
   "metadata": {},
   "outputs": [
    {
     "data": {
      "text/plain": [
       "3.141592653589793"
      ]
     },
     "execution_count": 4,
     "metadata": {},
     "output_type": "execute_result"
    }
   ],
   "source": [
    "np.pi"
   ]
  },
  {
   "cell_type": "code",
   "execution_count": null,
   "id": "60253a38",
   "metadata": {},
   "outputs": [],
   "source": [
    "#  to get the value of e"
   ]
  },
  {
   "cell_type": "code",
   "execution_count": 5,
   "id": "49b4fcbe",
   "metadata": {},
   "outputs": [
    {
     "data": {
      "text/plain": [
       "2.718281828459045"
      ]
     },
     "execution_count": 5,
     "metadata": {},
     "output_type": "execute_result"
    }
   ],
   "source": [
    "np.e\n"
   ]
  },
  {
   "cell_type": "code",
   "execution_count": 10,
   "id": "7209e980",
   "metadata": {},
   "outputs": [],
   "source": [
    "#select random number"
   ]
  },
  {
   "cell_type": "code",
   "execution_count": 11,
   "id": "f196712c",
   "metadata": {},
   "outputs": [
    {
     "data": {
      "text/plain": [
       "5"
      ]
     },
     "execution_count": 11,
     "metadata": {},
     "output_type": "execute_result"
    }
   ],
   "source": [
    "L = [1,2,3,5,6,7]\n",
    "p = np.random.permutation(L)\n",
    "np.random.choice(p)"
   ]
  },
  {
   "cell_type": "code",
   "execution_count": null,
   "id": "c2ff978d",
   "metadata": {},
   "outputs": [],
   "source": []
  }
 ],
 "metadata": {
  "kernelspec": {
   "display_name": "Python 3 (ipykernel)",
   "language": "python",
   "name": "python3"
  },
  "language_info": {
   "codemirror_mode": {
    "name": "ipython",
    "version": 3
   },
   "file_extension": ".py",
   "mimetype": "text/x-python",
   "name": "python",
   "nbconvert_exporter": "python",
   "pygments_lexer": "ipython3",
   "version": "3.8.2"
  }
 },
 "nbformat": 4,
 "nbformat_minor": 5
}
