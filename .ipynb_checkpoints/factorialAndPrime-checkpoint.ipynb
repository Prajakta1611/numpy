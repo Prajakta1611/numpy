{
 "cells": [
  {
   "cell_type": "code",
   "execution_count": 1,
   "id": "4294f2ae",
   "metadata": {},
   "outputs": [],
   "source": [
    "# program to print factorial of the number"
   ]
  },
  {
   "cell_type": "code",
   "execution_count": 51,
   "id": "f12d216b",
   "metadata": {},
   "outputs": [
    {
     "name": "stdout",
     "output_type": "stream",
     "text": [
      "Enter a number :\n"
     ]
    },
    {
     "ename": "ValueError",
     "evalue": "invalid literal for int() with base 10: ''",
     "output_type": "error",
     "traceback": [
      "\u001b[1;31m---------------------------------------------------------------------------\u001b[0m",
      "\u001b[1;31mValueError\u001b[0m                                Traceback (most recent call last)",
      "Cell \u001b[1;32mIn[51], line 1\u001b[0m\n\u001b[1;32m----> 1\u001b[0m num \u001b[38;5;241m=\u001b[39m \u001b[38;5;28;43mint\u001b[39;49m\u001b[43m(\u001b[49m\u001b[38;5;28;43minput\u001b[39;49m\u001b[43m(\u001b[49m\u001b[38;5;124;43m\"\u001b[39;49m\u001b[38;5;124;43mEnter a number :\u001b[39;49m\u001b[38;5;124;43m\"\u001b[39;49m\u001b[43m)\u001b[49m\u001b[43m)\u001b[49m\n\u001b[0;32m      2\u001b[0m \u001b[38;5;28;01mdef\u001b[39;00m \u001b[38;5;21mfactorial\u001b[39m(factNum):\n\u001b[0;32m      3\u001b[0m     fact \u001b[38;5;241m=\u001b[39m \u001b[38;5;241m1\u001b[39m\n",
      "\u001b[1;31mValueError\u001b[0m: invalid literal for int() with base 10: ''"
     ]
    }
   ],
   "source": [
    "num = int(input(\"Enter a number :\"))\n",
    "def factorial(factNum):\n",
    "    fact = 1\n",
    "    for i in range(1, factNum+1):\n",
    "        fact = fact*i\n",
    "    print(\"factorial of :\",factNum,\":\",fact)\n",
    "factorial(num)\n",
    "    "
   ]
  },
  {
   "cell_type": "code",
   "execution_count": 52,
   "id": "cc6473e4",
   "metadata": {},
   "outputs": [],
   "source": [
    "# Program to check the number is prime or not"
   ]
  },
  {
   "cell_type": "code",
   "execution_count": 53,
   "id": "fbdbf337",
   "metadata": {},
   "outputs": [
    {
     "name": "stdout",
     "output_type": "stream",
     "text": [
      "7 is prime\n"
     ]
    }
   ],
   "source": [
    "X = 0\n",
    "\n",
    "if num%2 == 0:\n",
    "    X = 1\n",
    "else:\n",
    "    X=0\n",
    "\n",
    "if X==1:\n",
    "    print(num,\"not a prime\")\n",
    "else:\n",
    "    print(num,\"is prime\")\n"
   ]
  },
  {
   "cell_type": "code",
   "execution_count": 54,
   "id": "c419f06c",
   "metadata": {},
   "outputs": [
    {
     "ename": "NameError",
     "evalue": "name 'PrimeNo' is not defined",
     "output_type": "error",
     "traceback": [
      "\u001b[1;31m---------------------------------------------------------------------------\u001b[0m",
      "\u001b[1;31mNameError\u001b[0m                                 Traceback (most recent call last)",
      "Cell \u001b[1;32mIn[54], line 11\u001b[0m\n\u001b[0;32m      9\u001b[0m     \u001b[38;5;28mprint\u001b[39m(PrimeNo,\u001b[38;5;124m\"\u001b[39m\u001b[38;5;124mnot a prime\u001b[39m\u001b[38;5;124m\"\u001b[39m)\n\u001b[0;32m     10\u001b[0m \u001b[38;5;28;01melse\u001b[39;00m:\n\u001b[1;32m---> 11\u001b[0m     \u001b[38;5;28mprint\u001b[39m(\u001b[43mPrimeNo\u001b[49m,\u001b[38;5;124m\"\u001b[39m\u001b[38;5;124mis prime\u001b[39m\u001b[38;5;124m\"\u001b[39m)\n\u001b[0;32m     13\u001b[0m prime(num)\n",
      "\u001b[1;31mNameError\u001b[0m: name 'PrimeNo' is not defined"
     ]
    }
   ],
   "source": [
    "def prime(PrimeNo):\n",
    "    X = 0\n",
    "    if PrimeNo%2 == 0:\n",
    "        X = 1\n",
    "    else:\n",
    "        X=0\n",
    "\n",
    "if X==1:\n",
    "    print(\"not a prime\")\n",
    "else:\n",
    "    print(\"is prime\")\n",
    "\n",
    "prime(num)\n",
    "    "
   ]
  },
  {
   "cell_type": "code",
   "execution_count": null,
   "id": "c062e55a",
   "metadata": {},
   "outputs": [],
   "source": []
  }
 ],
 "metadata": {
  "kernelspec": {
   "display_name": "Python 3 (ipykernel)",
   "language": "python",
   "name": "python3"
  },
  "language_info": {
   "codemirror_mode": {
    "name": "ipython",
    "version": 3
   },
   "file_extension": ".py",
   "mimetype": "text/x-python",
   "name": "python",
   "nbconvert_exporter": "python",
   "pygments_lexer": "ipython3",
   "version": "3.8.2"
  }
 },
 "nbformat": 4,
 "nbformat_minor": 5
}
