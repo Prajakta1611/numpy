{
 "cells": [
  {
   "cell_type": "code",
   "execution_count": 1,
   "id": "ba326433",
   "metadata": {},
   "outputs": [],
   "source": [
    "# indexing in array\n"
   ]
  },
  {
   "cell_type": "code",
   "execution_count": 4,
   "id": "d6a35f1e",
   "metadata": {},
   "outputs": [],
   "source": [
    "import numpy as np"
   ]
  },
  {
   "cell_type": "code",
   "execution_count": 17,
   "id": "7afd8acd",
   "metadata": {},
   "outputs": [],
   "source": [
    "a = np.arange(1,10).reshape((3,3))"
   ]
  },
  {
   "cell_type": "code",
   "execution_count": 18,
   "id": "ac8c4d02",
   "metadata": {},
   "outputs": [
    {
     "data": {
      "text/plain": [
       "array([[1, 2, 3],\n",
       "       [4, 5, 6],\n",
       "       [7, 8, 9]])"
      ]
     },
     "execution_count": 18,
     "metadata": {},
     "output_type": "execute_result"
    }
   ],
   "source": [
    "a"
   ]
  },
  {
   "cell_type": "code",
   "execution_count": 19,
   "id": "3fd52303",
   "metadata": {},
   "outputs": [
    {
     "data": {
      "text/plain": [
       "array([1, 2, 3])"
      ]
     },
     "execution_count": 19,
     "metadata": {},
     "output_type": "execute_result"
    }
   ],
   "source": [
    "a[0]"
   ]
  },
  {
   "cell_type": "code",
   "execution_count": 20,
   "id": "4aabd830",
   "metadata": {},
   "outputs": [],
   "source": [
    "#To get sample 3,6,9"
   ]
  },
  {
   "cell_type": "code",
   "execution_count": 25,
   "id": "f493a62d",
   "metadata": {},
   "outputs": [
    {
     "data": {
      "text/plain": [
       "array([[3],\n",
       "       [6],\n",
       "       [9]])"
      ]
     },
     "execution_count": 25,
     "metadata": {},
     "output_type": "execute_result"
    }
   ],
   "source": [
    "a[:,2:]"
   ]
  },
  {
   "cell_type": "code",
   "execution_count": 26,
   "id": "69aaa097",
   "metadata": {},
   "outputs": [],
   "source": [
    "# to get sammple 1,4,7\n"
   ]
  },
  {
   "cell_type": "code",
   "execution_count": 30,
   "id": "3010ca71",
   "metadata": {},
   "outputs": [
    {
     "data": {
      "text/plain": [
       "array([1, 4, 7])"
      ]
     },
     "execution_count": 30,
     "metadata": {},
     "output_type": "execute_result"
    }
   ],
   "source": [
    "a[:,0]"
   ]
  },
  {
   "cell_type": "code",
   "execution_count": 31,
   "id": "b6a2fbe6",
   "metadata": {},
   "outputs": [],
   "source": [
    "# To get 5,6,8,9"
   ]
  },
  {
   "cell_type": "code",
   "execution_count": 34,
   "id": "cf5702bb",
   "metadata": {},
   "outputs": [
    {
     "data": {
      "text/plain": [
       "array([[5, 6],\n",
       "       [8, 9]])"
      ]
     },
     "execution_count": 34,
     "metadata": {},
     "output_type": "execute_result"
    }
   ],
   "source": [
    "a[1:,1:]"
   ]
  },
  {
   "cell_type": "code",
   "execution_count": 35,
   "id": "dadbbad1",
   "metadata": {},
   "outputs": [],
   "source": [
    "# To get only 8 "
   ]
  },
  {
   "cell_type": "code",
   "execution_count": 40,
   "id": "604ff6f6",
   "metadata": {},
   "outputs": [
    {
     "data": {
      "text/plain": [
       "array([8])"
      ]
     },
     "execution_count": 40,
     "metadata": {},
     "output_type": "execute_result"
    }
   ],
   "source": [
    "a[2:,1]"
   ]
  },
  {
   "cell_type": "code",
   "execution_count": null,
   "id": "925609de",
   "metadata": {},
   "outputs": [],
   "source": []
  }
 ],
 "metadata": {
  "kernelspec": {
   "display_name": "Python 3 (ipykernel)",
   "language": "python",
   "name": "python3"
  },
  "language_info": {
   "codemirror_mode": {
    "name": "ipython",
    "version": 3
   },
   "file_extension": ".py",
   "mimetype": "text/x-python",
   "name": "python",
   "nbconvert_exporter": "python",
   "pygments_lexer": "ipython3",
   "version": "3.8.2"
  }
 },
 "nbformat": 4,
 "nbformat_minor": 5
}
