{
 "cells": [
  {
   "cell_type": "markdown",
   "id": "e2077ebf",
   "metadata": {},
   "source": [
    "##### This file contain all the string mathod."
   ]
  },
  {
   "cell_type": "code",
   "execution_count": 5,
   "id": "522746ae",
   "metadata": {},
   "outputs": [],
   "source": [
    "import numpy as np"
   ]
  },
  {
   "cell_type": "code",
   "execution_count": 6,
   "id": "3fa8cdba",
   "metadata": {},
   "outputs": [],
   "source": [
    "s = \"hello welcome To my Project\""
   ]
  },
  {
   "cell_type": "code",
   "execution_count": 10,
   "id": "8545f9dd",
   "metadata": {},
   "outputs": [
    {
     "data": {
      "text/plain": [
       "array('Hello welcome to my project', dtype='<U27')"
      ]
     },
     "execution_count": 10,
     "metadata": {},
     "output_type": "execute_result"
    }
   ],
   "source": [
    "np.char.capitalize(s)"
   ]
  },
  {
   "cell_type": "code",
   "execution_count": 13,
   "id": "706db1e3",
   "metadata": {},
   "outputs": [
    {
     "data": {
      "text/plain": [
       "array('HELLO WELCOME TO MY PROJECT', dtype='<U27')"
      ]
     },
     "execution_count": 13,
     "metadata": {},
     "output_type": "execute_result"
    }
   ],
   "source": [
    "np.char.upper(s)"
   ]
  },
  {
   "cell_type": "code",
   "execution_count": 14,
   "id": "5eab7463",
   "metadata": {},
   "outputs": [
    {
     "data": {
      "text/plain": [
       "array('hello welcome to my project', dtype='<U27')"
      ]
     },
     "execution_count": 14,
     "metadata": {},
     "output_type": "execute_result"
    }
   ],
   "source": [
    "np.char.lower(s)"
   ]
  },
  {
   "cell_type": "code",
   "execution_count": 15,
   "id": "e083928a",
   "metadata": {},
   "outputs": [
    {
     "data": {
      "text/plain": [
       "array('Hello Welcome To My Project', dtype='<U27')"
      ]
     },
     "execution_count": 15,
     "metadata": {},
     "output_type": "execute_result"
    }
   ],
   "source": [
    "np.char.title(s)"
   ]
  },
  {
   "cell_type": "code",
   "execution_count": 21,
   "id": "7ad31cc5",
   "metadata": {},
   "outputs": [
    {
     "data": {
      "text/plain": [
       "array(False)"
      ]
     },
     "execution_count": 21,
     "metadata": {},
     "output_type": "execute_result"
    }
   ],
   "source": [
    "np.char.isalnum(s)"
   ]
  },
  {
   "cell_type": "code",
   "execution_count": 22,
   "id": "1fc70789",
   "metadata": {},
   "outputs": [
    {
     "data": {
      "text/plain": [
       "array(False)"
      ]
     },
     "execution_count": 22,
     "metadata": {},
     "output_type": "execute_result"
    }
   ],
   "source": [
    "np.char.isalpha(s)"
   ]
  },
  {
   "cell_type": "code",
   "execution_count": 23,
   "id": "083c919c",
   "metadata": {},
   "outputs": [
    {
     "data": {
      "text/plain": [
       "array(False)"
      ]
     },
     "execution_count": 23,
     "metadata": {},
     "output_type": "execute_result"
    }
   ],
   "source": [
    "np.char.islower(s)"
   ]
  },
  {
   "cell_type": "code",
   "execution_count": 24,
   "id": "47f91302",
   "metadata": {},
   "outputs": [
    {
     "data": {
      "text/plain": [
       "array(False)"
      ]
     },
     "execution_count": 24,
     "metadata": {},
     "output_type": "execute_result"
    }
   ],
   "source": [
    "np.char.istitle(s)"
   ]
  },
  {
   "cell_type": "code",
   "execution_count": 25,
   "id": "783b8cc9",
   "metadata": {},
   "outputs": [
    {
     "data": {
      "text/plain": [
       "array(False)"
      ]
     },
     "execution_count": 25,
     "metadata": {},
     "output_type": "execute_result"
    }
   ],
   "source": [
    "np.char.isupper(s)"
   ]
  },
  {
   "cell_type": "code",
   "execution_count": 26,
   "id": "1bfe1039",
   "metadata": {},
   "outputs": [
    {
     "data": {
      "text/plain": [
       "array(False)"
      ]
     },
     "execution_count": 26,
     "metadata": {},
     "output_type": "execute_result"
    }
   ],
   "source": [
    "np.char.isnumeric(s)"
   ]
  },
  {
   "cell_type": "code",
   "execution_count": 27,
   "id": "10a300c4",
   "metadata": {},
   "outputs": [
    {
     "data": {
      "text/plain": [
       "array(False)"
      ]
     },
     "execution_count": 27,
     "metadata": {},
     "output_type": "execute_result"
    }
   ],
   "source": [
    "np.char.isalnum(s)"
   ]
  },
  {
   "cell_type": "code",
   "execution_count": 28,
   "id": "e82dedd2",
   "metadata": {},
   "outputs": [
    {
     "data": {
      "text/plain": [
       "array(False)"
      ]
     },
     "execution_count": 28,
     "metadata": {},
     "output_type": "execute_result"
    }
   ],
   "source": [
    "np.char.isspace(s)"
   ]
  },
  {
   "cell_type": "code",
   "execution_count": 29,
   "id": "9fd1d63f",
   "metadata": {},
   "outputs": [
    {
     "data": {
      "text/plain": [
       "array(False)"
      ]
     },
     "execution_count": 29,
     "metadata": {},
     "output_type": "execute_result"
    }
   ],
   "source": [
    "np.char.isalpha(s)"
   ]
  },
  {
   "cell_type": "code",
   "execution_count": null,
   "id": "b6c89f3b",
   "metadata": {},
   "outputs": [],
   "source": []
  }
 ],
 "metadata": {
  "kernelspec": {
   "display_name": "Python 3 (ipykernel)",
   "language": "python",
   "name": "python3"
  },
  "language_info": {
   "codemirror_mode": {
    "name": "ipython",
    "version": 3
   },
   "file_extension": ".py",
   "mimetype": "text/x-python",
   "name": "python",
   "nbconvert_exporter": "python",
   "pygments_lexer": "ipython3",
   "version": "3.8.2"
  }
 },
 "nbformat": 4,
 "nbformat_minor": 5
}
