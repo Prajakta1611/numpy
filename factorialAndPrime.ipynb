{
 "cells": [
  {
   "cell_type": "code",
   "execution_count": 1,
   "id": "b0167595",
   "metadata": {},
   "outputs": [],
   "source": [
    "# program to print factorial of the number"
   ]
  },
  {
   "cell_type": "code",
   "execution_count": 2,
   "id": "a90cad54",
   "metadata": {},
   "outputs": [
    {
     "name": "stdout",
     "output_type": "stream",
     "text": [
      "Enter a number :5\n",
      "factorial of : 5 : 120\n"
     ]
    }
   ],
   "source": [
    "num = int(input(\"Enter a number :\"))\n",
    "def factorial(factNum):\n",
    "    fact = 1\n",
    "    for i in range(1, factNum+1):\n",
    "        fact = fact*i\n",
    "    print(\"factorial of :\",factNum,\":\",fact)\n",
    "factorial(num)\n",
    "    "
   ]
  },
  {
   "cell_type": "code",
   "execution_count": 3,
   "id": "3fbf03cc",
   "metadata": {},
   "outputs": [],
   "source": [
    "# Program to check the number is prime or not"
   ]
  },
  {
   "cell_type": "code",
   "execution_count": null,
   "id": "38860997",
   "metadata": {},
   "outputs": [],
   "source": [
    "num = int(input(\"Enter a number :\"))\n",
    "def prime(No):\n",
    "    X = 0\n",
    "    if No % 2 == 0:\n",
    "        X = 1\n",
    "    else:\n",
    "        X=0\n",
    "        \n",
    "    if X==1:\n",
    "        print(\"not a prime\",No)\n",
    "    else:\n",
    "        print(\"prime\",No)\n",
    "\n",
    "prime(num)\n",
    "    "
   ]
  },
  {
   "cell_type": "code",
   "execution_count": null,
   "id": "c70c90da",
   "metadata": {},
   "outputs": [],
   "source": []
  }
 ],
 "metadata": {
  "kernelspec": {
   "display_name": "Python 3 (ipykernel)",
   "language": "python",
   "name": "python3"
  },
  "language_info": {
   "codemirror_mode": {
    "name": "ipython",
    "version": 3
   },
   "file_extension": ".py",
   "mimetype": "text/x-python",
   "name": "python",
   "nbconvert_exporter": "python",
   "pygments_lexer": "ipython3",
   "version": "3.8.2"
  }
 },
 "nbformat": 4,
 "nbformat_minor": 5
}
