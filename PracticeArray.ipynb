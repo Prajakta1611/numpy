{
 "cells": [
  {
   "cell_type": "markdown",
   "id": "a823d196",
   "metadata": {},
   "source": [
    "# Practice array\n",
    "\n"
   ]
  },
  {
   "cell_type": "code",
   "execution_count": 18,
   "id": "506c7b21",
   "metadata": {},
   "outputs": [],
   "source": [
    "l=[1,2,3,4,5,6]"
   ]
  },
  {
   "cell_type": "code",
   "execution_count": 19,
   "id": "a1a3e720",
   "metadata": {},
   "outputs": [],
   "source": [
    "import numpy as np"
   ]
  },
  {
   "cell_type": "code",
   "execution_count": 20,
   "id": "7ec861b9",
   "metadata": {},
   "outputs": [],
   "source": [
    "a=np.array(l)"
   ]
  },
  {
   "cell_type": "code",
   "execution_count": 21,
   "id": "c8f22c7b",
   "metadata": {},
   "outputs": [
    {
     "data": {
      "text/plain": [
       "array([1, 2, 3, 4, 5, 6])"
      ]
     },
     "execution_count": 21,
     "metadata": {},
     "output_type": "execute_result"
    }
   ],
   "source": [
    "a"
   ]
  },
  {
   "cell_type": "code",
   "execution_count": 22,
   "id": "c86a8cf9",
   "metadata": {},
   "outputs": [],
   "source": [
    "# To check the dimension of array"
   ]
  },
  {
   "cell_type": "code",
   "execution_count": 23,
   "id": "5952af3b",
   "metadata": {},
   "outputs": [
    {
     "data": {
      "text/plain": [
       "1"
      ]
     },
     "execution_count": 23,
     "metadata": {},
     "output_type": "execute_result"
    }
   ],
   "source": [
    "a.ndim\n"
   ]
  },
  {
   "cell_type": "code",
   "execution_count": 24,
   "id": "2ed3e851",
   "metadata": {},
   "outputs": [],
   "source": [
    "# To check the type of array"
   ]
  },
  {
   "cell_type": "code",
   "execution_count": 25,
   "id": "2d4d1236",
   "metadata": {},
   "outputs": [
    {
     "data": {
      "text/plain": [
       "numpy.ndarray"
      ]
     },
     "execution_count": 25,
     "metadata": {},
     "output_type": "execute_result"
    }
   ],
   "source": [
    "type(a)"
   ]
  },
  {
   "cell_type": "code",
   "execution_count": 26,
   "id": "3da7961d",
   "metadata": {},
   "outputs": [],
   "source": [
    "# To check the len of array"
   ]
  },
  {
   "cell_type": "code",
   "execution_count": 27,
   "id": "db7bd313",
   "metadata": {
    "scrolled": true
   },
   "outputs": [
    {
     "data": {
      "text/plain": [
       "6"
      ]
     },
     "execution_count": 27,
     "metadata": {},
     "output_type": "execute_result"
    }
   ],
   "source": [
    "len(a)"
   ]
  },
  {
   "cell_type": "code",
   "execution_count": 28,
   "id": "d293e79f",
   "metadata": {},
   "outputs": [],
   "source": [
    "# to check the shape"
   ]
  },
  {
   "cell_type": "code",
   "execution_count": 29,
   "id": "9d49f856",
   "metadata": {},
   "outputs": [
    {
     "data": {
      "text/plain": [
       "(6,)"
      ]
     },
     "execution_count": 29,
     "metadata": {},
     "output_type": "execute_result"
    }
   ],
   "source": [
    "a.shape\n"
   ]
  },
  {
   "cell_type": "code",
   "execution_count": 34,
   "id": "37870912",
   "metadata": {},
   "outputs": [],
   "source": [
    "# To convert the array into 2d array"
   ]
  },
  {
   "cell_type": "code",
   "execution_count": 35,
   "id": "afb49737",
   "metadata": {},
   "outputs": [
    {
     "data": {
      "text/plain": [
       "array([[1, 2, 3],\n",
       "       [4, 5, 6]])"
      ]
     },
     "execution_count": 35,
     "metadata": {},
     "output_type": "execute_result"
    }
   ],
   "source": [
    "a.reshape((2,3))"
   ]
  },
  {
   "cell_type": "code",
   "execution_count": 36,
   "id": "01cf889f",
   "metadata": {},
   "outputs": [],
   "source": [
    "# To convert array into 3d array"
   ]
  },
  {
   "cell_type": "code",
   "execution_count": 37,
   "id": "520436ef",
   "metadata": {},
   "outputs": [
    {
     "data": {
      "text/plain": [
       "array([[[1, 2]],\n",
       "\n",
       "       [[3, 4]],\n",
       "\n",
       "       [[5, 6]]])"
      ]
     },
     "execution_count": 37,
     "metadata": {},
     "output_type": "execute_result"
    }
   ],
   "source": [
    "a.reshape((3,1,2))"
   ]
  },
  {
   "cell_type": "code",
   "execution_count": 38,
   "id": "c63ee121",
   "metadata": {},
   "outputs": [],
   "source": [
    "# To convert array into 3d to 1d\n"
   ]
  },
  {
   "cell_type": "code",
   "execution_count": 40,
   "id": "e384d880",
   "metadata": {},
   "outputs": [
    {
     "data": {
      "text/plain": [
       "array([1, 2, 3, 4, 5, 6])"
      ]
     },
     "execution_count": 40,
     "metadata": {},
     "output_type": "execute_result"
    }
   ],
   "source": [
    "a.flatten()"
   ]
  },
  {
   "cell_type": "code",
   "execution_count": 41,
   "id": "11af2390",
   "metadata": {},
   "outputs": [],
   "source": [
    "# to calculate mean"
   ]
  },
  {
   "cell_type": "code",
   "execution_count": 43,
   "id": "55929d2a",
   "metadata": {},
   "outputs": [
    {
     "data": {
      "text/plain": [
       "3.5"
      ]
     },
     "execution_count": 43,
     "metadata": {},
     "output_type": "execute_result"
    }
   ],
   "source": [
    "a.mean()"
   ]
  },
  {
   "cell_type": "code",
   "execution_count": 44,
   "id": "9ee65ebe",
   "metadata": {},
   "outputs": [],
   "source": [
    "# To calculate variance"
   ]
  },
  {
   "cell_type": "code",
   "execution_count": 45,
   "id": "220beff1",
   "metadata": {},
   "outputs": [
    {
     "data": {
      "text/plain": [
       "2.9166666666666665"
      ]
     },
     "execution_count": 45,
     "metadata": {},
     "output_type": "execute_result"
    }
   ],
   "source": [
    "a.var()\n"
   ]
  },
  {
   "cell_type": "code",
   "execution_count": 46,
   "id": "c1fd0236",
   "metadata": {},
   "outputs": [],
   "source": [
    "# To calculate standardeviation"
   ]
  },
  {
   "cell_type": "code",
   "execution_count": 47,
   "id": "32544b81",
   "metadata": {},
   "outputs": [
    {
     "data": {
      "text/plain": [
       "1.707825127659933"
      ]
     },
     "execution_count": 47,
     "metadata": {},
     "output_type": "execute_result"
    }
   ],
   "source": [
    "a.std()"
   ]
  },
  {
   "cell_type": "code",
   "execution_count": null,
   "id": "62ba960c",
   "metadata": {},
   "outputs": [],
   "source": []
  }
 ],
 "metadata": {
  "kernelspec": {
   "display_name": "Python 3 (ipykernel)",
   "language": "python",
   "name": "python3"
  },
  "language_info": {
   "codemirror_mode": {
    "name": "ipython",
    "version": 3
   },
   "file_extension": ".py",
   "mimetype": "text/x-python",
   "name": "python",
   "nbconvert_exporter": "python",
   "pygments_lexer": "ipython3",
   "version": "3.11.3"
  }
 },
 "nbformat": 4,
 "nbformat_minor": 5
}
