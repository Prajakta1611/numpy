{
 "cells": [
  {
   "cell_type": "code",
   "execution_count": 16,
   "id": "73a8a13d",
   "metadata": {},
   "outputs": [],
   "source": [
    "# to find the value from the array "
   ]
  },
  {
   "cell_type": "code",
   "execution_count": null,
   "id": "6b6deea4",
   "metadata": {},
   "outputs": [],
   "source": [
    "#Insert the correct syntax for printing the first item in the array.\n"
   ]
  },
  {
   "cell_type": "code",
   "execution_count": 17,
   "id": "fe7afdd8",
   "metadata": {},
   "outputs": [],
   "source": [
    "arr = np.array([10, 20, 30, 40, 50])"
   ]
  },
  {
   "cell_type": "code",
   "execution_count": 18,
   "id": "d8429c75",
   "metadata": {},
   "outputs": [
    {
     "data": {
      "text/plain": [
       "10"
      ]
     },
     "execution_count": 18,
     "metadata": {},
     "output_type": "execute_result"
    }
   ],
   "source": [
    "arr[0]"
   ]
  },
  {
   "cell_type": "code",
   "execution_count": 19,
   "id": "de2c6956",
   "metadata": {},
   "outputs": [],
   "source": [
    "# Insert the correct syntax for printing the number 50 from the array."
   ]
  },
  {
   "cell_type": "code",
   "execution_count": 21,
   "id": "b2804551",
   "metadata": {},
   "outputs": [
    {
     "data": {
      "text/plain": [
       "50"
      ]
     },
     "execution_count": 21,
     "metadata": {},
     "output_type": "execute_result"
    }
   ],
   "source": [
    "arr[-1]"
   ]
  },
  {
   "cell_type": "code",
   "execution_count": 22,
   "id": "b37deac0",
   "metadata": {},
   "outputs": [],
   "source": [
    "# Insert the correct syntax for printing the number 50 from the array."
   ]
  },
  {
   "cell_type": "code",
   "execution_count": 23,
   "id": "c1798492",
   "metadata": {},
   "outputs": [],
   "source": [
    "arr = np.array([[10, 20, 30, 40], [50, 60, 70, 80]])"
   ]
  },
  {
   "cell_type": "code",
   "execution_count": null,
   "id": "b6b39728",
   "metadata": {},
   "outputs": [],
   "source": []
  }
 ],
 "metadata": {
  "kernelspec": {
   "display_name": "Python 3 (ipykernel)",
   "language": "python",
   "name": "python3"
  },
  "language_info": {
   "codemirror_mode": {
    "name": "ipython",
    "version": 3
   },
   "file_extension": ".py",
   "mimetype": "text/x-python",
   "name": "python",
   "nbconvert_exporter": "python",
   "pygments_lexer": "ipython3",
   "version": "3.8.2"
  }
 },
 "nbformat": 4,
 "nbformat_minor": 5
}
